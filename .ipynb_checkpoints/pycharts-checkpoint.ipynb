{
 "cells": [
  {
   "cell_type": "code",
   "execution_count": 5,
   "metadata": {
    "collapsed": true,
    "deletable": true,
    "editable": true
   },
   "outputs": [],
   "source": [
    "import sys\n",
    "import os\n",
    "sys.path.append(os.path.join(os.getcwd(),'pyrecharts'))"
   ]
  },
  {
   "cell_type": "code",
   "execution_count": 6,
   "metadata": {
    "collapsed": true,
    "deletable": true,
    "editable": true
   },
   "outputs": [],
   "source": [
    "from IPython.display import display,HTML"
   ]
  },
  {
   "cell_type": "code",
   "execution_count": 8,
   "metadata": {
    "collapsed": false,
    "deletable": true,
    "editable": true
   },
   "outputs": [],
   "source": [
    "from pyrecharts import StdCharts"
   ]
  },
  {
   "cell_type": "markdown",
   "metadata": {
    "deletable": true,
    "editable": true
   },
   "source": [
    "# Horizontal Bar Charts\n",
    "\n",
    "* Best suited for categories comparison"
   ]
  },
  {
   "cell_type": "markdown",
   "metadata": {
    "deletable": true,
    "editable": true
   },
   "source": [
    "## Example 1: default options, \"as is\""
   ]
  },
  {
   "cell_type": "code",
   "execution_count": 9,
   "metadata": {
    "collapsed": false,
    "deletable": true,
    "editable": true,
    "scrolled": true
   },
   "outputs": [
    {
     "data": {
      "text/html": [
       "\n",
       "        <figure>\n",
       "            <figcaption>\n",
       "                <h3></h3>\n",
       "            </figcaption>\n",
       "        \n",
       "        <svg style=\"font-family: 'Helvetica'; font-weight: normal; font-style: normal; padding: 15px; background: #ffffff\" \n",
       "            width=\"600\" \n",
       "            height=\"150\" \n",
       "            aria-labelledby=\"title desc\" \n",
       "            role=\"img\"\n",
       "            viewBox=\"0 0 600 150\">\n",
       "            \n",
       "        <g class=\"bar\">\n",
       "            <text x=\"0\" y=\"-15\" dy=\"30\" fill=\"#333333\">\n",
       "                <tspan x=\"88\" text-anchor=\"end\">Bananas</tspan>\n",
       "            </text>\n",
       "            <rect width=\"216.5\" height=\"20\" x=\"98\" y=\"0\" fill=\"rgb(0, 78, 121)\"></rect>\n",
       "            <text x=\"319.5\" y=\"-15\" dy=\"30\" fill=\"#333333\">4000</text>\n",
       "        </g>\n",
       "\n",
       "        <g class=\"bar\">\n",
       "            <text x=\"0\" y=\"10\" dy=\"30\" fill=\"#333333\">\n",
       "                <tspan x=\"88\" text-anchor=\"end\">Apples</tspan>\n",
       "            </text>\n",
       "            <rect width=\"433.0\" height=\"20\" x=\"98\" y=\"25\" fill=\"rgb(0, 78, 121)\"></rect>\n",
       "            <text x=\"536.0\" y=\"10\" dy=\"30\" fill=\"#333333\">8000</text>\n",
       "        </g>\n",
       "\n",
       "        <g class=\"bar\">\n",
       "            <text x=\"0\" y=\"35\" dy=\"30\" fill=\"#333333\">\n",
       "                <tspan x=\"88\" text-anchor=\"end\">Oranges</tspan>\n",
       "            </text>\n",
       "            <rect width=\"162.375\" height=\"20\" x=\"98\" y=\"50\" fill=\"rgb(0, 78, 121)\"></rect>\n",
       "            <text x=\"265.375\" y=\"35\" dy=\"30\" fill=\"#333333\">3000</text>\n",
       "        </g>\n",
       "\n",
       "        <g class=\"bar\">\n",
       "            <text x=\"0\" y=\"60\" dy=\"30\" fill=\"#333333\">\n",
       "                <tspan x=\"88\" text-anchor=\"end\">Watermelons</tspan>\n",
       "            </text>\n",
       "            <rect width=\"86.60000000000001\" height=\"20\" x=\"98\" y=\"75\" fill=\"rgb(0, 78, 121)\"></rect>\n",
       "            <text x=\"189.60000000000002\" y=\"60\" dy=\"30\" fill=\"#333333\">1600</text>\n",
       "        </g>\n",
       "\n",
       "        <g class=\"bar\">\n",
       "            <text x=\"0\" y=\"85\" dy=\"30\" fill=\"#333333\">\n",
       "                <tspan x=\"88\" text-anchor=\"end\">Grapes</tspan>\n",
       "            </text>\n",
       "            <rect width=\"54.125\" height=\"20\" x=\"98\" y=\"100\" fill=\"rgb(0, 78, 121)\"></rect>\n",
       "            <text x=\"157.125\" y=\"85\" dy=\"30\" fill=\"#333333\">1000</text>\n",
       "        </g>\n",
       "\n",
       "        <g class=\"bar\">\n",
       "            <text x=\"0\" y=\"110\" dy=\"30\" fill=\"#333333\">\n",
       "                <tspan x=\"88\" text-anchor=\"end\">Kiwis</tspan>\n",
       "            </text>\n",
       "            <rect width=\"135.3125\" height=\"20\" x=\"98\" y=\"125\" fill=\"rgb(0, 78, 121)\"></rect>\n",
       "            <text x=\"238.3125\" y=\"110\" dy=\"30\" fill=\"#333333\">2500</text>\n",
       "        </g>\n",
       "        </svg>\n",
       "        <figcaption><h5></h5></figcaption>\n",
       "        </figure>\n",
       "        \n",
       "        "
      ],
      "text/plain": [
       "<IPython.core.display.HTML object>"
      ]
     },
     "execution_count": 9,
     "metadata": {},
     "output_type": "execute_result"
    }
   ],
   "source": [
    "data = dict(\n",
    "    labels=['Bananas','Apples','Oranges','Watermelons','Grapes','Kiwis'],\n",
    "    values=[4000,8000,3000,1600,1000,2500]\n",
    ")\n",
    "out = StdCharts.HBar(data)\n",
    "HTML(out)"
   ]
  },
  {
   "cell_type": "markdown",
   "metadata": {
    "deletable": true,
    "editable": true
   },
   "source": [
    "You can also save your chart with the **save** method:"
   ]
  },
  {
   "cell_type": "code",
   "execution_count": 10,
   "metadata": {
    "collapsed": false,
    "deletable": true,
    "editable": true
   },
   "outputs": [],
   "source": [
    "StdCharts.save(out,'report_chart.png')"
   ]
  },
  {
   "cell_type": "markdown",
   "metadata": {
    "deletable": true,
    "editable": true
   },
   "source": [
    "## Example 2: sample options, sorting enabled"
   ]
  },
  {
   "cell_type": "code",
   "execution_count": 11,
   "metadata": {
    "collapsed": false,
    "deletable": true,
    "editable": true,
    "scrolled": false
   },
   "outputs": [
    {
     "data": {
      "text/html": [
       "\n",
       "        <figure>\n",
       "            <figcaption>\n",
       "                <h3>Fruit prices ($)</h3>\n",
       "            </figcaption>\n",
       "        \n",
       "        <svg style=\"font-family: 'Tahoma'; font-weight: normal; font-style: normal; padding: 15px; background: #f6f6f6\" \n",
       "            width=\"600\" \n",
       "            height=\"150\" \n",
       "            aria-labelledby=\"title desc\" \n",
       "            role=\"img\"\n",
       "            viewBox=\"0 0 600 150\">\n",
       "            \n",
       "        <g class=\"bar\">\n",
       "            <text x=\"0\" y=\"-15\" dy=\"30\" fill=\"#996666\">\n",
       "                <tspan x=\"88\" text-anchor=\"end\">Apples</tspan>\n",
       "            </text>\n",
       "            <rect width=\"433.0\" height=\"20\" x=\"98\" y=\"0\" fill=\"rgb(220, 75, 30)\"></rect>\n",
       "            <text x=\"536.0\" y=\"-15\" dy=\"30\" fill=\"#996666\">8,000</text>\n",
       "        </g>\n",
       "\n",
       "        <g class=\"bar\">\n",
       "            <text x=\"0\" y=\"10\" dy=\"30\" fill=\"#996666\">\n",
       "                <tspan x=\"88\" text-anchor=\"end\">Bananas</tspan>\n",
       "            </text>\n",
       "            <rect width=\"216.5\" height=\"20\" x=\"98\" y=\"25\" fill=\"rgb(220, 75, 30)\"></rect>\n",
       "            <text x=\"319.5\" y=\"10\" dy=\"30\" fill=\"#996666\">4,000</text>\n",
       "        </g>\n",
       "\n",
       "        <g class=\"bar\">\n",
       "            <text x=\"0\" y=\"35\" dy=\"30\" fill=\"#996666\">\n",
       "                <tspan x=\"88\" text-anchor=\"end\">Oranges</tspan>\n",
       "            </text>\n",
       "            <rect width=\"162.375\" height=\"20\" x=\"98\" y=\"50\" fill=\"rgb(220, 75, 30)\"></rect>\n",
       "            <text x=\"265.375\" y=\"35\" dy=\"30\" fill=\"#996666\">3,000</text>\n",
       "        </g>\n",
       "\n",
       "        <g class=\"bar\">\n",
       "            <text x=\"0\" y=\"60\" dy=\"30\" fill=\"#996666\">\n",
       "                <tspan x=\"88\" text-anchor=\"end\">Kiwis</tspan>\n",
       "            </text>\n",
       "            <rect width=\"135.3125\" height=\"20\" x=\"98\" y=\"75\" fill=\"rgb(220, 75, 30)\"></rect>\n",
       "            <text x=\"238.3125\" y=\"60\" dy=\"30\" fill=\"#996666\">2,500</text>\n",
       "        </g>\n",
       "\n",
       "        <g class=\"bar\">\n",
       "            <text x=\"0\" y=\"85\" dy=\"30\" fill=\"#996666\">\n",
       "                <tspan x=\"88\" text-anchor=\"end\">Watermelons</tspan>\n",
       "            </text>\n",
       "            <rect width=\"86.60000000000001\" height=\"20\" x=\"98\" y=\"100\" fill=\"rgb(220, 75, 30)\"></rect>\n",
       "            <text x=\"189.60000000000002\" y=\"85\" dy=\"30\" fill=\"#996666\">1,600</text>\n",
       "        </g>\n",
       "\n",
       "        <g class=\"bar\">\n",
       "            <text x=\"0\" y=\"110\" dy=\"30\" fill=\"#996666\">\n",
       "                <tspan x=\"88\" text-anchor=\"end\">Grapes</tspan>\n",
       "            </text>\n",
       "            <rect width=\"54.125\" height=\"20\" x=\"98\" y=\"125\" fill=\"rgb(220, 75, 30)\"></rect>\n",
       "            <text x=\"157.125\" y=\"110\" dy=\"30\" fill=\"#996666\">1,000</text>\n",
       "        </g>\n",
       "        </svg>\n",
       "        <figcaption><h5>Source: Local Market</h5></figcaption>\n",
       "        </figure>\n",
       "        \n",
       "        "
      ],
      "text/plain": [
       "<IPython.core.display.HTML object>"
      ]
     },
     "execution_count": 11,
     "metadata": {},
     "output_type": "execute_result"
    }
   ],
   "source": [
    "data = dict(\n",
    "    labels=['Bananas','Apples','Oranges','Watermelons','Grapes','Kiwis'],\n",
    "    values=[4000,8000,3000,1600,1000,2500]\n",
    ")\n",
    "out = StdCharts.HBar(\n",
    "    data = data,\n",
    "    width=600,\n",
    "    color='#996666',\n",
    "    title='Fruit prices ($)',\n",
    "    source='Source: Local Market',\n",
    "    fill='rgb(220, 75, 30)',\n",
    "    values_sorted=True,\n",
    "    paper='#f6f6f6',\n",
    "    locale='en',\n",
    "    font='Tahoma')\n",
    "HTML(out)"
   ]
  },
  {
   "cell_type": "markdown",
   "metadata": {
    "deletable": true,
    "editable": true
   },
   "source": [
    "# Vertical Bar Charts\n",
    "\n",
    "* Ideal for a small number of labels or a portion of time dependent values\n",
    "* Fixed width"
   ]
  },
  {
   "cell_type": "markdown",
   "metadata": {
    "deletable": true,
    "editable": true
   },
   "source": [
    "## Example 3: defaults "
   ]
  },
  {
   "cell_type": "code",
   "execution_count": 12,
   "metadata": {
    "collapsed": false,
    "deletable": true,
    "editable": true
   },
   "outputs": [
    {
     "data": {
      "text/html": [
       "\n",
       "        <figure>\n",
       "            <figcaption>\n",
       "                <h3></h3>\n",
       "            </figcaption>\n",
       "        \n",
       "        <svg style=\"font-family: 'Helvetica'; font-weight: normal; font-style: normal; padding: 15px; background: #f3f3f3\" \n",
       "            width=\"376\" \n",
       "            height=\"300\" \n",
       "            aria-labelledby=\"title desc\" \n",
       "            role=\"img\" viewBox=\"0 0 376 300\">\n",
       "            \n",
       "        <g class=\"bar\">\n",
       "            <text x=\"21.0\" y=\"300\" fill=\"#333333\" text-anchor=\"middle\">2010</text>\n",
       "            <rect x=\"0\" y=\"162.0\" height=\"122.0\" width=\"42\" fill=\"rgb(0, 78, 121)\"></rect>\n",
       "            <text x=\"21.0\" y=\"162.0\" dy=\"-8\" fill=\"#333333\" text-anchor=\"middle\">4000</text>\n",
       "        </g>        \n",
       "        \n",
       "\n",
       "        <g class=\"bar\">\n",
       "            <text x=\"68.0\" y=\"300\" fill=\"#333333\" text-anchor=\"middle\">2011</text>\n",
       "            <rect x=\"47\" y=\"24.0\" height=\"260.0\" width=\"42\" fill=\"rgb(0, 78, 121)\"></rect>\n",
       "            <text x=\"68.0\" y=\"24.0\" dy=\"-8\" fill=\"#333333\" text-anchor=\"middle\">8000</text>\n",
       "        </g>        \n",
       "        \n",
       "\n",
       "        <g class=\"bar\">\n",
       "            <text x=\"115.0\" y=\"300\" fill=\"#333333\" text-anchor=\"middle\">2012</text>\n",
       "            <rect x=\"94\" y=\"196.5\" height=\"87.5\" width=\"42\" fill=\"rgb(0, 78, 121)\"></rect>\n",
       "            <text x=\"115.0\" y=\"196.5\" dy=\"-8\" fill=\"#333333\" text-anchor=\"middle\">3000</text>\n",
       "        </g>        \n",
       "        \n",
       "\n",
       "        <g class=\"bar\">\n",
       "            <text x=\"162.0\" y=\"300\" fill=\"#333333\" text-anchor=\"middle\">2013</text>\n",
       "            <rect x=\"141\" y=\"244.8\" height=\"39.2\" width=\"42\" fill=\"rgb(0, 78, 121)\"></rect>\n",
       "            <text x=\"162.0\" y=\"244.8\" dy=\"-8\" fill=\"#333333\" text-anchor=\"middle\">1600</text>\n",
       "        </g>        \n",
       "        \n",
       "\n",
       "        <g class=\"bar\">\n",
       "            <text x=\"209.0\" y=\"300\" fill=\"#333333\" text-anchor=\"middle\">2014</text>\n",
       "            <rect x=\"188\" y=\"265.5\" height=\"18.5\" width=\"42\" fill=\"rgb(0, 78, 121)\"></rect>\n",
       "            <text x=\"209.0\" y=\"265.5\" dy=\"-8\" fill=\"#333333\" text-anchor=\"middle\">1000</text>\n",
       "        </g>        \n",
       "        \n",
       "\n",
       "        <g class=\"bar\">\n",
       "            <text x=\"256.0\" y=\"300\" fill=\"#333333\" text-anchor=\"middle\">2015</text>\n",
       "            <rect x=\"235\" y=\"213.75\" height=\"70.25\" width=\"42\" fill=\"rgb(0, 78, 121)\"></rect>\n",
       "            <text x=\"256.0\" y=\"213.75\" dy=\"-8\" fill=\"#333333\" text-anchor=\"middle\">2500</text>\n",
       "        </g>        \n",
       "        \n",
       "\n",
       "        <g class=\"bar\">\n",
       "            <text x=\"303.0\" y=\"300\" fill=\"#333333\" text-anchor=\"middle\">2016</text>\n",
       "            <rect x=\"282\" y=\"151.65\" height=\"132.35\" width=\"42\" fill=\"rgb(0, 78, 121)\"></rect>\n",
       "            <text x=\"303.0\" y=\"151.65\" dy=\"-8\" fill=\"#333333\" text-anchor=\"middle\">4300</text>\n",
       "        </g>        \n",
       "        \n",
       "\n",
       "        <g class=\"bar\">\n",
       "            <text x=\"350.0\" y=\"300\" fill=\"#333333\" text-anchor=\"middle\">2017</text>\n",
       "            <rect x=\"329\" y=\"155.1\" height=\"128.9\" width=\"42\" fill=\"rgb(0, 78, 121)\"></rect>\n",
       "            <text x=\"350.0\" y=\"155.1\" dy=\"-8\" fill=\"#333333\" text-anchor=\"middle\">4200</text>\n",
       "        </g>        \n",
       "                \n",
       "        </svg>\n",
       "        \n",
       "        <figcaption><h5></h5></figcaption>\n",
       "        </figure>\n",
       "        \n",
       "        "
      ],
      "text/plain": [
       "<IPython.core.display.HTML object>"
      ]
     },
     "execution_count": 12,
     "metadata": {},
     "output_type": "execute_result"
    }
   ],
   "source": [
    "data = dict(\n",
    "    labels=[2010,2011,2012,2013,2014,2015,2016,2017],\n",
    "    values=[4000,8000,3000,1600,1000,2500,4300,4200]\n",
    ")\n",
    "out = StdCharts.VBar(data=data,paper='#f3f3f3')\n",
    "HTML(out)"
   ]
  },
  {
   "cell_type": "code",
   "execution_count": 13,
   "metadata": {
    "collapsed": true,
    "deletable": true,
    "editable": true
   },
   "outputs": [],
   "source": [
    "StdCharts.save(out,'report_vertical.png')"
   ]
  },
  {
   "cell_type": "markdown",
   "metadata": {
    "deletable": true,
    "editable": true
   },
   "source": [
    "## Example 4 "
   ]
  },
  {
   "cell_type": "code",
   "execution_count": 14,
   "metadata": {
    "collapsed": false,
    "deletable": true,
    "editable": true
   },
   "outputs": [
    {
     "data": {
      "text/html": [
       "\n",
       "        <figure>\n",
       "            <figcaption>\n",
       "                <h3></h3>\n",
       "            </figcaption>\n",
       "        \n",
       "        <svg style=\"font-family: 'Helvetica'; font-weight: normal; font-style: normal; padding: 15px; background: #ffffff\" \n",
       "            width=\"357\" \n",
       "            height=\"300\" \n",
       "            aria-labelledby=\"title desc\" \n",
       "            role=\"img\" viewBox=\"0 0 357 300\">\n",
       "            \n",
       "        <g class=\"bar\">\n",
       "            <text x=\"57.0\" y=\"300\" fill=\"#446699\" text-anchor=\"middle\">City OPQRSTUV</text>\n",
       "            <rect x=\"0\" y=\"24.0\" height=\"260.0\" width=\"114\" fill=\"#999999\"></rect>\n",
       "            <text x=\"57.0\" y=\"24.0\" dy=\"-8\" fill=\"#446699\" text-anchor=\"middle\">500</text>\n",
       "        </g>        \n",
       "        \n",
       "\n",
       "        <g class=\"bar\">\n",
       "            <text x=\"176.0\" y=\"300\" fill=\"#446699\" text-anchor=\"middle\">City ABCD</text>\n",
       "            <rect x=\"119\" y=\"189.6\" height=\"94.4\" width=\"114\" fill=\"#999999\"></rect>\n",
       "            <text x=\"176.0\" y=\"189.6\" dy=\"-8\" fill=\"#446699\" text-anchor=\"middle\">200</text>\n",
       "        </g>        \n",
       "        \n",
       "\n",
       "        <g class=\"bar\">\n",
       "            <text x=\"295.0\" y=\"300\" fill=\"#446699\" text-anchor=\"middle\">City EFGHM</text>\n",
       "            <rect x=\"238\" y=\"244.8\" height=\"39.2\" width=\"114\" fill=\"#999999\"></rect>\n",
       "            <text x=\"295.0\" y=\"244.8\" dy=\"-8\" fill=\"#446699\" text-anchor=\"middle\">100</text>\n",
       "        </g>        \n",
       "                \n",
       "        </svg>\n",
       "        \n",
       "        <figcaption><h5></h5></figcaption>\n",
       "        </figure>\n",
       "        \n",
       "        "
      ],
      "text/plain": [
       "<IPython.core.display.HTML object>"
      ]
     },
     "execution_count": 14,
     "metadata": {},
     "output_type": "execute_result"
    }
   ],
   "source": [
    "data = dict(\n",
    "    labels=['City ABCD','City EFGHM','City OPQRSTUV'],\n",
    "    values=[200,100,500]\n",
    ")\n",
    "out = StdCharts.VBar(data=data,values_sorted=True,color=\"#446699\",fill=\"#999999\")\n",
    "HTML(out)"
   ]
  }
 ],
 "metadata": {
  "kernelspec": {
   "display_name": "Python 3",
   "language": "python",
   "name": "python3"
  },
  "language_info": {
   "codemirror_mode": {
    "name": "ipython",
    "version": 3
   },
   "file_extension": ".py",
   "mimetype": "text/x-python",
   "name": "python",
   "nbconvert_exporter": "python",
   "pygments_lexer": "ipython3",
   "version": "3.6.0"
  }
 },
 "nbformat": 4,
 "nbformat_minor": 2
}
